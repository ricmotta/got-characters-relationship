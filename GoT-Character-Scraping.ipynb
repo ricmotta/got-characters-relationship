{
 "cells": [
  {
   "cell_type": "code",
   "execution_count": 1,
   "id": "d866dcde",
   "metadata": {},
   "outputs": [],
   "source": [
    "import pandas as pd\n",
    "from selenium import webdriver\n",
    "from webdriver_manager.chrome import ChromeDriverManager\n",
    "from selenium.webdriver.common.by import By"
   ]
  },
  {
   "cell_type": "markdown",
   "id": "974c84db",
   "metadata": {},
   "source": [
    "# Realizando Web Scraping"
   ]
  },
  {
   "cell_type": "code",
   "execution_count": 2,
   "id": "1597e0e4",
   "metadata": {},
   "outputs": [],
   "source": [
    "URL = \"https://awoiaf.westeros.org/index.php/List_of_characters\""
   ]
  },
  {
   "cell_type": "code",
   "execution_count": 3,
   "id": "a97340ee",
   "metadata": {},
   "outputs": [
    {
     "name": "stderr",
     "output_type": "stream",
     "text": [
      "[WDM] - Downloading: 100%|████████████████████████████████████████████████████████| 6.58M/6.58M [00:00<00:00, 16.0MB/s]\n",
      "C:\\Users\\Acer\\AppData\\Local\\Temp\\ipykernel_15136\\1503906442.py:1: DeprecationWarning: executable_path has been deprecated, please pass in a Service object\n",
      "  driver = webdriver.Chrome(ChromeDriverManager().install())\n"
     ]
    }
   ],
   "source": [
    "driver = webdriver.Chrome(ChromeDriverManager().install())"
   ]
  },
  {
   "cell_type": "code",
   "execution_count": 4,
   "id": "124414f2",
   "metadata": {},
   "outputs": [],
   "source": [
    "driver.get(URL)"
   ]
  },
  {
   "cell_type": "markdown",
   "id": "89033c72",
   "metadata": {},
   "source": [
    "# Obter nome dos personagens"
   ]
  },
  {
   "cell_type": "code",
   "execution_count": 5,
   "id": "413358cf",
   "metadata": {},
   "outputs": [],
   "source": [
    "# Obter elemento usando Selenium a partir de sua Classe\n",
    "characters = driver.find_elements(By.CLASS_NAME, 'mw-parser-output')\n",
    "\n",
    "# Transformar elemento em texto\n",
    "text = characters[0].text\n",
    "\n",
    "# Dividir texto em linhas\n",
    "rows = text.split('\\n')"
   ]
  },
  {
   "cell_type": "code",
   "execution_count": 6,
   "id": "8f03deee",
   "metadata": {},
   "outputs": [],
   "source": [
    "# Passar texto para Series\n",
    "s = pd.Series(rows)"
   ]
  },
  {
   "cell_type": "markdown",
   "id": "d626bcd1",
   "metadata": {},
   "source": [
    "# Explorando os dados iniciais"
   ]
  },
  {
   "cell_type": "code",
   "execution_count": 7,
   "id": "c22db02a",
   "metadata": {},
   "outputs": [
    {
     "data": {
      "text/plain": [
       "0    Contents: A B C D E F G H I J K L M N O P Q R ...\n",
       "1                                                     \n",
       "2    This page lists all characters from the A Song...\n",
       "3                                                    A\n",
       "4                                        A certain man\n",
       "dtype: object"
      ]
     },
     "execution_count": 7,
     "metadata": {},
     "output_type": "execute_result"
    }
   ],
   "source": [
    "s.head(5)"
   ]
  },
  {
   "cell_type": "code",
   "execution_count": 8,
   "id": "562bdf5c",
   "metadata": {},
   "outputs": [
    {
     "data": {
      "text/plain": [
       "3817                                                 Zhea\n",
       "3818                                       Zhoe Blanetree\n",
       "3819                                             Zia Frey\n",
       "3820    Zollo, called \"Fat Zollo\". A Dothraki sellswor...\n",
       "3821                                        ↑ Back to top\n",
       "dtype: object"
      ]
     },
     "execution_count": 8,
     "metadata": {},
     "output_type": "execute_result"
    }
   ],
   "source": [
    "s.tail(5)"
   ]
  },
  {
   "cell_type": "code",
   "execution_count": 9,
   "id": "46da70f7",
   "metadata": {},
   "outputs": [],
   "source": [
    "# Remove espaços em branco no início e final das linhas em nossa Series\n",
    "s = s.str.strip()"
   ]
  },
  {
   "cell_type": "code",
   "execution_count": 10,
   "id": "94402e34",
   "metadata": {},
   "outputs": [
    {
     "data": {
      "text/plain": [
       "0"
      ]
     },
     "execution_count": 10,
     "metadata": {},
     "output_type": "execute_result"
    }
   ],
   "source": [
    "# Verificando se temos linhas vazias\n",
    "s[pd.isnull(s)].sum()"
   ]
  },
  {
   "cell_type": "markdown",
   "id": "7223a6e1",
   "metadata": {},
   "source": [
    "Ao olhar para o conteúdo, vemos que temos ruído, tal como os títulos e referências dos personagens, um texto\n",
    "para voltar ao topo da página, letras que indicam as iniciais dos nomes, etc. Vamos começar fazendo a limpeza\n",
    "para determinar o nome dos personagens."
   ]
  },
  {
   "cell_type": "markdown",
   "id": "5f421e32",
   "metadata": {},
   "source": [
    "# Limpeza do nome dos personagens"
   ]
  },
  {
   "cell_type": "code",
   "execution_count": 11,
   "id": "ca10f9ce",
   "metadata": {},
   "outputs": [],
   "source": [
    "# Remover cabeçalho\n",
    "s = s.drop(s.index[:3])\n",
    "\n",
    "# Os nomes estão sempre divididos dos títulos e referências por vírgula. Podemos então separar nossa Series\n",
    "# em colunas e jogar num DataFrame usando a vírgula como separador.\n",
    "s = s.str.split(',', expand=True)\n",
    "\n",
    "# Deixando apenas a coluna que vamos utilizar de \"nomes de personagens\"\n",
    "df = s.drop(columns=[1, 2, 3, 4, 5])"
   ]
  },
  {
   "cell_type": "code",
   "execution_count": 12,
   "id": "3a430634",
   "metadata": {},
   "outputs": [
    {
     "data": {
      "text/html": [
       "<div>\n",
       "<style scoped>\n",
       "    .dataframe tbody tr th:only-of-type {\n",
       "        vertical-align: middle;\n",
       "    }\n",
       "\n",
       "    .dataframe tbody tr th {\n",
       "        vertical-align: top;\n",
       "    }\n",
       "\n",
       "    .dataframe thead th {\n",
       "        text-align: right;\n",
       "    }\n",
       "</style>\n",
       "<table border=\"1\" class=\"dataframe\">\n",
       "  <thead>\n",
       "    <tr style=\"text-align: right;\">\n",
       "      <th></th>\n",
       "      <th>character_name</th>\n",
       "    </tr>\n",
       "  </thead>\n",
       "  <tbody>\n",
       "    <tr>\n",
       "      <th>0</th>\n",
       "      <td>A certain man</td>\n",
       "    </tr>\n",
       "    <tr>\n",
       "      <th>1</th>\n",
       "      <td>Abelar Hightower</td>\n",
       "    </tr>\n",
       "    <tr>\n",
       "      <th>2</th>\n",
       "      <td>Abelon</td>\n",
       "    </tr>\n",
       "    <tr>\n",
       "      <th>3</th>\n",
       "      <td>Addam of Duskendale</td>\n",
       "    </tr>\n",
       "    <tr>\n",
       "      <th>4</th>\n",
       "      <td>Addam Frey</td>\n",
       "    </tr>\n",
       "    <tr>\n",
       "      <th>...</th>\n",
       "      <td>...</td>\n",
       "    </tr>\n",
       "    <tr>\n",
       "      <th>3762</th>\n",
       "      <td>Zharaq zo Loraq</td>\n",
       "    </tr>\n",
       "    <tr>\n",
       "      <th>3763</th>\n",
       "      <td>Zhea</td>\n",
       "    </tr>\n",
       "    <tr>\n",
       "      <th>3764</th>\n",
       "      <td>Zhoe Blanetree</td>\n",
       "    </tr>\n",
       "    <tr>\n",
       "      <th>3765</th>\n",
       "      <td>Zia Frey</td>\n",
       "    </tr>\n",
       "    <tr>\n",
       "      <th>3766</th>\n",
       "      <td>Zollo</td>\n",
       "    </tr>\n",
       "  </tbody>\n",
       "</table>\n",
       "<p>3767 rows × 1 columns</p>\n",
       "</div>"
      ],
      "text/plain": [
       "           character_name\n",
       "0           A certain man\n",
       "1        Abelar Hightower\n",
       "2                  Abelon\n",
       "3     Addam of Duskendale\n",
       "4              Addam Frey\n",
       "...                   ...\n",
       "3762      Zharaq zo Loraq\n",
       "3763                 Zhea\n",
       "3764       Zhoe Blanetree\n",
       "3765             Zia Frey\n",
       "3766                Zollo\n",
       "\n",
       "[3767 rows x 1 columns]"
      ]
     },
     "execution_count": 12,
     "metadata": {},
     "output_type": "execute_result"
    }
   ],
   "source": [
    "# Renomear a coluna que vamos usar\n",
    "df.rename(columns={0: 'character_name'}, inplace=True)\n",
    "\n",
    "# Remover letras que indicam o início de uma nova letra\n",
    "df = df.loc[ (df['character_name'].str.len() > 1)]\n",
    "\n",
    "# Remover \"↑ Back to top\"\n",
    "df = df[df[\"character_name\"].str.contains(\"↑ Back to top\")==False]\n",
    "\n",
    "df = df.reset_index(drop=True)\n",
    "\n",
    "df"
   ]
  },
  {
   "cell_type": "markdown",
   "id": "a17ee589",
   "metadata": {},
   "source": [
    "Ao final dessa primeira parte, obtivemos um dataset com os 3767 nomes \"limpos\"."
   ]
  }
 ],
 "metadata": {
  "kernelspec": {
   "display_name": "Python 3 (ipykernel)",
   "language": "python",
   "name": "python3"
  },
  "language_info": {
   "codemirror_mode": {
    "name": "ipython",
    "version": 3
   },
   "file_extension": ".py",
   "mimetype": "text/x-python",
   "name": "python",
   "nbconvert_exporter": "python",
   "pygments_lexer": "ipython3",
   "version": "3.9.13"
  }
 },
 "nbformat": 4,
 "nbformat_minor": 5
}
